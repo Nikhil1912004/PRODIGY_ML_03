{
 "cells": [
  {
   "cell_type": "code",
   "execution_count": 27,
   "metadata": {},
   "outputs": [],
   "source": [
    "import pickle"
   ]
  },
  {
   "cell_type": "code",
   "execution_count": 28,
   "metadata": {},
   "outputs": [],
   "source": [
    "X = pickle.load(open('X.pkl', 'rb'))\n",
    "y = pickle.load(open('y.pkl', 'rb'))"
   ]
  },
  {
   "cell_type": "code",
   "execution_count": 29,
   "metadata": {},
   "outputs": [
    {
     "data": {
      "text/plain": [
       "array([[[  6,   6,   6, ...,   6,   6,   6],\n",
       "        [  6, 125, 232, ..., 108,  35,   0],\n",
       "        [  6, 130, 222, ..., 108,  34,   4],\n",
       "        ...,\n",
       "        [  6,   6,   6, ...,   6,   6,   6],\n",
       "        [  6,   6,   6, ...,   6,   6,   6],\n",
       "        [  6,   6,   6, ...,   6,   6,   6]],\n",
       "\n",
       "       [[  6,   4,   3, ...,  24,   6,   2],\n",
       "        [  6,   7,   4, ...,  26,   6,   6],\n",
       "        [ 15,  25,   6, ...,  14,   4,  15],\n",
       "        ...,\n",
       "        [ 93, 102,  77, ...,  79,  75,  61],\n",
       "        [ 81,  91,  90, ..., 101,  79,  87],\n",
       "        [ 99, 123,  73, ...,  96,  61,  44]],\n",
       "\n",
       "       [[123, 133, 130, ..., 164,  50,  77],\n",
       "        [129, 129, 131, ...,  65,  27,  69],\n",
       "        [128, 123, 131, ...,  85,  36,  75],\n",
       "        ...,\n",
       "        [ 47,  84, 111, ..., 193, 178, 200],\n",
       "        [ 99,  46,  36, ..., 206, 204, 178],\n",
       "        [ 65, 120,  54, ..., 203, 208, 224]],\n",
       "\n",
       "       ...,\n",
       "\n",
       "       [[128, 177, 183, ..., 114, 128, 118],\n",
       "        [ 94, 181, 173, ..., 121, 116, 140],\n",
       "        [100, 166, 179, ..., 138, 147, 152],\n",
       "        ...,\n",
       "        [ 22,  31,  34, ...,  98, 103,  97],\n",
       "        [ 45,  40,  40, ..., 103, 102,  99],\n",
       "        [ 38,  37,  43, ..., 103, 106,  99]],\n",
       "\n",
       "       [[139, 137, 134, ..., 144, 141, 139],\n",
       "        [143, 133, 136, ..., 146, 143, 142],\n",
       "        [139, 137, 147, ..., 148, 146, 144],\n",
       "        ...,\n",
       "        [ 54,  49,  57, ..., 108,  55,  88],\n",
       "        [ 45,  61,  48, ...,  95,  88,  90],\n",
       "        [ 43,  48,  40, ...,  96,  98,  92]],\n",
       "\n",
       "       [[ 19,  20,  22, ...,  80,  62,  24],\n",
       "        [ 27,  26,  25, ...,  79,  82,  85],\n",
       "        [ 22,  24,  24, ...,  82, 106, 130],\n",
       "        ...,\n",
       "        [ 33,  38,  40, ...,  83,  86,  79],\n",
       "        [ 41,  33,  39, ...,  90,  88,  79],\n",
       "        [ 40,  43,  33, ...,  83,  82,  66]]], dtype=uint8)"
      ]
     },
     "execution_count": 29,
     "metadata": {},
     "output_type": "execute_result"
    }
   ],
   "source": [
    "X"
   ]
  },
  {
   "cell_type": "code",
   "execution_count": 30,
   "metadata": {},
   "outputs": [
    {
     "data": {
      "text/plain": [
       "array([0, 1, 0, ..., 1, 0, 0])"
      ]
     },
     "execution_count": 30,
     "metadata": {},
     "output_type": "execute_result"
    }
   ],
   "source": [
    "y"
   ]
  },
  {
   "cell_type": "code",
   "execution_count": 31,
   "metadata": {},
   "outputs": [],
   "source": [
    "X = X/255"
   ]
  },
  {
   "cell_type": "code",
   "execution_count": 32,
   "metadata": {
    "scrolled": true
   },
   "outputs": [
    {
     "data": {
      "text/plain": [
       "array([[[0.02352941, 0.02352941, 0.02352941, ..., 0.02352941,\n",
       "         0.02352941, 0.02352941],\n",
       "        [0.02352941, 0.49019608, 0.90980392, ..., 0.42352941,\n",
       "         0.1372549 , 0.        ],\n",
       "        [0.02352941, 0.50980392, 0.87058824, ..., 0.42352941,\n",
       "         0.13333333, 0.01568627],\n",
       "        ...,\n",
       "        [0.02352941, 0.02352941, 0.02352941, ..., 0.02352941,\n",
       "         0.02352941, 0.02352941],\n",
       "        [0.02352941, 0.02352941, 0.02352941, ..., 0.02352941,\n",
       "         0.02352941, 0.02352941],\n",
       "        [0.02352941, 0.02352941, 0.02352941, ..., 0.02352941,\n",
       "         0.02352941, 0.02352941]],\n",
       "\n",
       "       [[0.02352941, 0.01568627, 0.01176471, ..., 0.09411765,\n",
       "         0.02352941, 0.00784314],\n",
       "        [0.02352941, 0.02745098, 0.01568627, ..., 0.10196078,\n",
       "         0.02352941, 0.02352941],\n",
       "        [0.05882353, 0.09803922, 0.02352941, ..., 0.05490196,\n",
       "         0.01568627, 0.05882353],\n",
       "        ...,\n",
       "        [0.36470588, 0.4       , 0.30196078, ..., 0.30980392,\n",
       "         0.29411765, 0.23921569],\n",
       "        [0.31764706, 0.35686275, 0.35294118, ..., 0.39607843,\n",
       "         0.30980392, 0.34117647],\n",
       "        [0.38823529, 0.48235294, 0.28627451, ..., 0.37647059,\n",
       "         0.23921569, 0.17254902]],\n",
       "\n",
       "       [[0.48235294, 0.52156863, 0.50980392, ..., 0.64313725,\n",
       "         0.19607843, 0.30196078],\n",
       "        [0.50588235, 0.50588235, 0.51372549, ..., 0.25490196,\n",
       "         0.10588235, 0.27058824],\n",
       "        [0.50196078, 0.48235294, 0.51372549, ..., 0.33333333,\n",
       "         0.14117647, 0.29411765],\n",
       "        ...,\n",
       "        [0.18431373, 0.32941176, 0.43529412, ..., 0.75686275,\n",
       "         0.69803922, 0.78431373],\n",
       "        [0.38823529, 0.18039216, 0.14117647, ..., 0.80784314,\n",
       "         0.8       , 0.69803922],\n",
       "        [0.25490196, 0.47058824, 0.21176471, ..., 0.79607843,\n",
       "         0.81568627, 0.87843137]],\n",
       "\n",
       "       ...,\n",
       "\n",
       "       [[0.50196078, 0.69411765, 0.71764706, ..., 0.44705882,\n",
       "         0.50196078, 0.4627451 ],\n",
       "        [0.36862745, 0.70980392, 0.67843137, ..., 0.4745098 ,\n",
       "         0.45490196, 0.54901961],\n",
       "        [0.39215686, 0.65098039, 0.70196078, ..., 0.54117647,\n",
       "         0.57647059, 0.59607843],\n",
       "        ...,\n",
       "        [0.08627451, 0.12156863, 0.13333333, ..., 0.38431373,\n",
       "         0.40392157, 0.38039216],\n",
       "        [0.17647059, 0.15686275, 0.15686275, ..., 0.40392157,\n",
       "         0.4       , 0.38823529],\n",
       "        [0.14901961, 0.14509804, 0.16862745, ..., 0.40392157,\n",
       "         0.41568627, 0.38823529]],\n",
       "\n",
       "       [[0.54509804, 0.5372549 , 0.5254902 , ..., 0.56470588,\n",
       "         0.55294118, 0.54509804],\n",
       "        [0.56078431, 0.52156863, 0.53333333, ..., 0.57254902,\n",
       "         0.56078431, 0.55686275],\n",
       "        [0.54509804, 0.5372549 , 0.57647059, ..., 0.58039216,\n",
       "         0.57254902, 0.56470588],\n",
       "        ...,\n",
       "        [0.21176471, 0.19215686, 0.22352941, ..., 0.42352941,\n",
       "         0.21568627, 0.34509804],\n",
       "        [0.17647059, 0.23921569, 0.18823529, ..., 0.37254902,\n",
       "         0.34509804, 0.35294118],\n",
       "        [0.16862745, 0.18823529, 0.15686275, ..., 0.37647059,\n",
       "         0.38431373, 0.36078431]],\n",
       "\n",
       "       [[0.0745098 , 0.07843137, 0.08627451, ..., 0.31372549,\n",
       "         0.24313725, 0.09411765],\n",
       "        [0.10588235, 0.10196078, 0.09803922, ..., 0.30980392,\n",
       "         0.32156863, 0.33333333],\n",
       "        [0.08627451, 0.09411765, 0.09411765, ..., 0.32156863,\n",
       "         0.41568627, 0.50980392],\n",
       "        ...,\n",
       "        [0.12941176, 0.14901961, 0.15686275, ..., 0.3254902 ,\n",
       "         0.3372549 , 0.30980392],\n",
       "        [0.16078431, 0.12941176, 0.15294118, ..., 0.35294118,\n",
       "         0.34509804, 0.30980392],\n",
       "        [0.15686275, 0.16862745, 0.12941176, ..., 0.3254902 ,\n",
       "         0.32156863, 0.25882353]]])"
      ]
     },
     "execution_count": 32,
     "metadata": {},
     "output_type": "execute_result"
    }
   ],
   "source": [
    "X"
   ]
  },
  {
   "cell_type": "code",
   "execution_count": 33,
   "metadata": {},
   "outputs": [],
   "source": [
    "X = X.reshape(-1, 60, 60, 1)"
   ]
  },
  {
   "cell_type": "code",
   "execution_count": 34,
   "metadata": {},
   "outputs": [],
   "source": [
    "from keras.models import Sequential\n",
    "from keras.layers import Conv2D, MaxPooling2D, Dense, Flatten"
   ]
  },
  {
   "cell_type": "code",
   "execution_count": 35,
   "metadata": {},
   "outputs": [],
   "source": [
    "model = Sequential()\n",
    "\n",
    "model.add(Conv2D(64, (3,3), activation = 'relu'))\n",
    "model.add(MaxPooling2D((2,2)))\n",
    "\n",
    "model.add(Conv2D(64, (3,3), activation = 'relu'))\n",
    "model.add(MaxPooling2D((2,2)))\n",
    "\n",
    "model.add(Flatten())\n",
    "\n",
    "model.add(Dense(128, input_shape = X.shape[1:], activation = 'relu'))\n",
    "\n",
    "model.add(Dense(2, activation = 'softmax'))"
   ]
  },
  {
   "cell_type": "code",
   "execution_count": 36,
   "metadata": {},
   "outputs": [],
   "source": [
    "model.compile(optimizer='adam',\n",
    "              loss='sparse_categorical_crossentropy',\n",
    "              metrics=['accuracy'])"
   ]
  },
  {
   "cell_type": "code",
   "execution_count": 22,
   "metadata": {
    "scrolled": true
   },
   "outputs": [
    {
     "name": "stdout",
     "output_type": "stream",
     "text": [
      "Epoch 1/5\n",
      "WARNING:tensorflow:From C:\\Users\\User\\anaconda3\\lib\\site-packages\\keras\\src\\utils\\tf_utils.py:492: The name tf.ragged.RaggedTensorValue is deprecated. Please use tf.compat.v1.ragged.RaggedTensorValue instead.\n",
      "\n",
      "WARNING:tensorflow:From C:\\Users\\User\\anaconda3\\lib\\site-packages\\keras\\src\\engine\\base_layer_utils.py:384: The name tf.executing_eagerly_outside_functions is deprecated. Please use tf.compat.v1.executing_eagerly_outside_functions instead.\n",
      "\n",
      "563/563 [==============================] - 50s 85ms/step - loss: 0.6571 - accuracy: 0.6016 - val_loss: 0.5907 - val_accuracy: 0.6750\n",
      "Epoch 2/5\n",
      "563/563 [==============================] - 49s 87ms/step - loss: 0.5565 - accuracy: 0.7176 - val_loss: 0.5096 - val_accuracy: 0.7540\n",
      "Epoch 3/5\n",
      "563/563 [==============================] - 50s 88ms/step - loss: 0.4863 - accuracy: 0.7642 - val_loss: 0.5259 - val_accuracy: 0.7385\n",
      "Epoch 4/5\n",
      "563/563 [==============================] - 46s 81ms/step - loss: 0.4355 - accuracy: 0.7952 - val_loss: 0.4747 - val_accuracy: 0.7660\n",
      "Epoch 5/5\n",
      "563/563 [==============================] - 45s 80ms/step - loss: 0.3666 - accuracy: 0.8359 - val_loss: 0.4650 - val_accuracy: 0.7865\n"
     ]
    },
    {
     "data": {
      "text/plain": [
       "<keras.src.callbacks.History at 0x1ff225beb80>"
      ]
     },
     "execution_count": 22,
     "metadata": {},
     "output_type": "execute_result"
    }
   ],
   "source": [
    "model.fit(X, y, epochs=5, validation_split=0.1)"
   ]
  },
  {
   "cell_type": "code",
   "execution_count": 37,
   "metadata": {},
   "outputs": [
    {
     "data": {
      "text/plain": [
       "(5000, 60, 60, 1)"
      ]
     },
     "execution_count": 37,
     "metadata": {},
     "output_type": "execute_result"
    }
   ],
   "source": [
    "X.shape"
   ]
  },
  {
   "cell_type": "code",
   "execution_count": 38,
   "metadata": {},
   "outputs": [
    {
     "data": {
      "text/plain": [
       "1707310532.2506883"
      ]
     },
     "execution_count": 38,
     "metadata": {},
     "output_type": "execute_result"
    }
   ],
   "source": [
    "import time\n",
    "\n",
    "time.time()"
   ]
  },
  {
   "cell_type": "code",
   "execution_count": 40,
   "metadata": {},
   "outputs": [
    {
     "data": {
      "text/plain": [
       "float"
      ]
     },
     "execution_count": 40,
     "metadata": {},
     "output_type": "execute_result"
    }
   ],
   "source": [
    "type(1707310532.2506883)"
   ]
  },
  {
   "cell_type": "code",
   "execution_count": null,
   "metadata": {},
   "outputs": [],
   "source": []
  }
 ],
 "metadata": {
  "kernelspec": {
   "display_name": "Python 3 (ipykernel)",
   "language": "python",
   "name": "python3"
  },
  "language_info": {
   "codemirror_mode": {
    "name": "ipython",
    "version": 3
   },
   "file_extension": ".py",
   "mimetype": "text/x-python",
   "name": "python",
   "nbconvert_exporter": "python",
   "pygments_lexer": "ipython3",
   "version": "3.9.13"
  }
 },
 "nbformat": 4,
 "nbformat_minor": 2
}
